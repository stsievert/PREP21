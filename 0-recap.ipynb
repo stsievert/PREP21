{
 "cells": [
  {
   "cell_type": "markdown",
   "id": "7760c3d9-94c8-4b62-9368-ba5615c8bb2a",
   "metadata": {},
   "source": [
    "# Goals"
   ]
  },
  {
   "cell_type": "markdown",
   "id": "21e808d6-a1d4-4014-8ba8-a17d3ab33e24",
   "metadata": {},
   "source": [
    "* **What is optimization?** Why do you need it?\n",
    "* **What are the basics of optimization?**\n",
    "* **Where does optimization fail?**"
   ]
  },
  {
   "cell_type": "markdown",
   "id": "5c19e48c-d60e-49fe-864a-56df51e1af44",
   "metadata": {},
   "source": [
    "To answer these questions, let's walk through some demos."
   ]
  },
  {
   "cell_type": "markdown",
   "id": "6c71c0d5-8f0e-41b9-855a-bf9392816d35",
   "metadata": {},
   "source": [
    "<!--\n",
    "* **1-demo.ipynb**: How is the loss function (aka hill/valley) created?\n",
    "* **2-demo.ipynb**: How can prior knowledge be enforced? (or, how do we give the climber extra tools?)\n",
    "* **3-demo.ipynb**: What exactly does adding complexity to the model mean? Or, are we climbing a hill or a mountain?\n",
    "* **4-demo.ipynb**: Let's run an end-to-end example of optimization (or, let's climb up the very popular Mt. Hood).\n",
    "-->"
   ]
  },
  {
   "cell_type": "markdown",
   "id": "1ee60cf0-0c78-4d82-ae64-97f6baafefca",
   "metadata": {},
   "source": [
    "But first, let's recap the videos. I tried to give a general overview in the videos, one that's not too mathematical."
   ]
  },
  {
   "cell_type": "markdown",
   "id": "1f7e82a4-0b47-444a-ae01-d053fed9205f",
   "metadata": {},
   "source": [
    "## Takeaways\n",
    "\n",
    "* Optimization required for **anything automated**.\n",
    "* Using **problem-specific details** is required for **even decent performance.**\n",
    "* Don't over-engineer your optimization problem and **start with the basics.**"
   ]
  },
  {
   "cell_type": "markdown",
   "id": "2ce89aca-89c2-4417-a282-d18a7190e915",
   "metadata": {},
   "source": [
    "# Why do I need it?"
   ]
  },
  {
   "cell_type": "markdown",
   "id": "9ce64ea8-80e1-472e-af80-de11956353cb",
   "metadata": {},
   "source": [
    "**Do you want a computer to do an automated task?**\n",
    "\n",
    "Why would a self-driving car company want to recognize cross walks?\n",
    "\n",
    "Other use cases:\n",
    "\n",
    "* **Do you want to automatically recognized billions of images?**\n",
    "* Do you want to have an automated assistant on your website?\n",
    "* Do you want to model human behavior in hopes of understanding it?\n",
    "* Do you want to serve better advertisements using social media posts/historical searches?"
   ]
  },
  {
   "cell_type": "markdown",
   "id": "26462694-9ba8-46f5-b2f1-f5b21268d1d3",
   "metadata": {},
   "source": [
    "# What is optimization?"
   ]
  },
  {
   "cell_type": "markdown",
   "id": "f78b1c4b-793d-4543-bc2b-532d90902228",
   "metadata": {},
   "source": [
    "**Finding the highest point of a hill.** (or the lowest point in a valley).\n",
    "\n",
    "Every picture online shows the curve:"
   ]
  },
  {
   "cell_type": "code",
   "execution_count": 1,
   "id": "dd044d63-094f-4987-ab21-c27091981ede",
   "metadata": {},
   "outputs": [
    {
     "data": {
      "text/plain": [
       "[<matplotlib.lines.Line2D at 0x1213e3700>]"
      ]
     },
     "execution_count": 1,
     "metadata": {},
     "output_type": "execute_result"
    },
    {
     "data": {
      "image/png": "[encoded data removed]",
      "text/plain": [
       "<Figure size 288x144 with 1 Axes>"
      ]
     },
     "metadata": {
      "image/png": {
       "height": 153,
       "width": 257
      },
      "needs_background": "light"
     },
     "output_type": "display_data"
    }
   ],
   "source": [
    "import numpy as np\n",
    "import pandas as pd\n",
    "\n",
    "x = np.linspace(-1, 1, num=100)\n",
    "y = 6*x**4 + 4*x**3 + x**2 + x + 1\n",
    "\n",
    "ax = pd.DataFrame({\"x\": x, \"y\": y}).plot(x=\"x\", y=\"y\", figsize=(4, 2))\n",
    "ax.plot([0.5], [2.7], \"o\")"
   ]
  },
  {
   "cell_type": "code",
   "execution_count": 2,
   "id": "67c0b352-ff6a-49b3-9b7d-aaee9fa29e95",
   "metadata": {},
   "outputs": [
    {
     "data": {
      "text/plain": [
       "-0.4949494949494949"
      ]
     },
     "execution_count": 2,
     "metadata": {},
     "output_type": "execute_result"
    }
   ],
   "source": [
    "idx = np.argmin(y)\n",
    "x[idx]"
   ]
  },
  {
   "cell_type": "markdown",
   "id": "c1907930-d207-4888-af4e-04aeca544ac2",
   "metadata": {},
   "source": [
    "But this required an exhaustive search and $n=100$ evaluations."
   ]
  },
  {
   "cell_type": "markdown",
   "id": "61f2b1e4-8d73-4649-9e14-0589fbf95648",
   "metadata": {},
   "source": [
    "**Goal:** minimize the number of function evaluations."
   ]
  },
  {
   "cell_type": "markdown",
   "id": "bb69a94f-1916-414d-864d-19a8f05171e5",
   "metadata": {},
   "source": [
    "Many ways to do this:\n",
    "\n",
    "* Exhaustive searches.\n",
    "* Informed searches\n",
    "* Analytical solution.\n",
    "* **\"Gradient descent\"**\n",
    "\n",
    "Gradient descent is by far the most common; analytical solutions and exhaustive searches are infeasible as the number of parameters grow.\n",
    "\n",
    "Gradient descent is similar to a ball rolling down a hill *when the hill is unknown ahead of time*:"
   ]
  },
  {
   "cell_type": "code",
   "execution_count": 3,
   "id": "c5a6bbce-744d-4bad-a057-e419206675b3",
   "metadata": {},
   "outputs": [
    {
     "data": {
      "text/html": [
       "<img src=\"https://www.charlesbordet.com/assets/images/gradient-descent/gradientdescent-alpha0.001.gif\" width=\"300\"/>"
      ],
      "text/plain": [
       "<IPython.core.display.Image object>"
      ]
     },
     "execution_count": 3,
     "metadata": {},
     "output_type": "execute_result"
    }
   ],
   "source": [
    "from IPython.display import Image\n",
    "Image(url=\"https://www.charlesbordet.com/assets/images/gradient-descent/gradientdescent-alpha0.001.gif\",\n",
    "      width=300)"
   ]
  },
  {
   "cell_type": "markdown",
   "id": "6ac3b687-d52b-4fa4-968b-c3d17436aa7b",
   "metadata": {},
   "source": [
    "The \"ball\" can only see three pieces of information:\n",
    "\n",
    "1. The current loss value.\n",
    "2. The direction the slope increases (and decreases).\n",
    "\n",
    "The is analagous to a blind man walking up a hill. His goal is to reach the top of the hill, and he can tell when his altitude is increasing through his feet. Optimization asks \"how quickly can the blind man get up the hill?\""
   ]
  },
  {
   "cell_type": "code",
   "execution_count": null,
   "id": "be28ae09-5ea7-46f6-9bbd-de5b39f5de6b",
   "metadata": {},
   "outputs": [],
   "source": []
  }
 ],
 "metadata": {
  "kernelspec": {
   "display_name": "Python 3",
   "language": "python",
   "name": "python3"
  },
  "language_info": {
   "codemirror_mode": {
    "name": "ipython",
    "version": 3
   },
   "file_extension": ".py",
   "mimetype": "text/x-python",
   "name": "python",
   "nbconvert_exporter": "python",
   "pygments_lexer": "ipython3",
   "version": "3.8.8"
  }
 },
 "nbformat": 4,
 "nbformat_minor": 5
}
