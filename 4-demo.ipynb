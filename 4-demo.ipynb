{
 "cells": [
  {
   "cell_type": "markdown",
   "id": "1e606979-c525-4cd5-b857-0437bec377dc",
   "metadata": {},
   "source": [
    "# End-to-end example\n",
    "\n",
    "...with neural networks!"
   ]
  },
  {
   "cell_type": "markdown",
   "id": "0cf61861-b1f2-4649-a9e2-ecafc956ad57",
   "metadata": {},
   "source": [
    "Let's walk through a simple example with a more complicated model."
   ]
  },
  {
   "cell_type": "markdown",
   "id": "a759239d-fc81-4fd3-b0bb-6d4d82a28804",
   "metadata": {},
   "source": [
    "**Takeaways:**\n",
    "\n",
    "* Use high quality features!\n",
    "* Demo of \"shallow\" neural network."
   ]
  },
  {
   "cell_type": "markdown",
   "id": "11c3b150-056b-41d3-8e5e-493cbf147680",
   "metadata": {},
   "source": [
    "## Data"
   ]
  },
  {
   "cell_type": "markdown",
   "id": "18a94a73-72ac-4e77-b098-4ec1ab1902c9",
   "metadata": {},
   "source": [
    "Let's use [UW's Breast Cancer data][1]:\n",
    "\n",
    "[1]:https://archive.ics.uci.edu/ml/datasets/Breast+Cancer+Wisconsin+(Diagnostic)"
   ]
  },
  {
   "cell_type": "code",
   "execution_count": 1,
   "id": "b8e083ae-ec73-443f-85bc-3f44be2defd2",
   "metadata": {},
   "outputs": [
    {
     "name": "stdout",
     "output_type": "stream",
     "text": [
      "Malign: 212\n",
      "Benign: 357\n"
     ]
    },
    {
     "data": {
      "text/html": [
       "<div>\n",
       "<style scoped>\n",
       "    .dataframe tbody tr th:only-of-type {\n",
       "        vertical-align: middle;\n",
       "    }\n",
       "\n",
       "    .dataframe tbody tr th {\n",
       "        vertical-align: top;\n",
       "    }\n",
       "\n",
       "    .dataframe thead th {\n",
       "        text-align: right;\n",
       "    }\n",
       "</style>\n",
       "<table border=\"1\" class=\"dataframe\">\n",
       "  <thead>\n",
       "    <tr style=\"text-align: right;\">\n",
       "      <th></th>\n",
       "      <th>mean radius</th>\n",
       "      <th>mean texture</th>\n",
       "      <th>mean perimeter</th>\n",
       "      <th>mean area</th>\n",
       "      <th>mean smoothness</th>\n",
       "      <th>mean compactness</th>\n",
       "      <th>mean concavity</th>\n",
       "      <th>mean concave points</th>\n",
       "      <th>mean symmetry</th>\n",
       "      <th>mean fractal dimension</th>\n",
       "      <th>...</th>\n",
       "      <th>worst texture</th>\n",
       "      <th>worst perimeter</th>\n",
       "      <th>worst area</th>\n",
       "      <th>worst smoothness</th>\n",
       "      <th>worst compactness</th>\n",
       "      <th>worst concavity</th>\n",
       "      <th>worst concave points</th>\n",
       "      <th>worst symmetry</th>\n",
       "      <th>worst fractal dimension</th>\n",
       "      <th>malign</th>\n",
       "    </tr>\n",
       "  </thead>\n",
       "  <tbody>\n",
       "    <tr>\n",
       "      <th>0</th>\n",
       "      <td>17.99</td>\n",
       "      <td>10.38</td>\n",
       "      <td>122.80</td>\n",
       "      <td>1001.0</td>\n",
       "      <td>0.11840</td>\n",
       "      <td>0.27760</td>\n",
       "      <td>0.3001</td>\n",
       "      <td>0.14710</td>\n",
       "      <td>0.2419</td>\n",
       "      <td>0.07871</td>\n",
       "      <td>...</td>\n",
       "      <td>17.33</td>\n",
       "      <td>184.60</td>\n",
       "      <td>2019.0</td>\n",
       "      <td>0.1622</td>\n",
       "      <td>0.6656</td>\n",
       "      <td>0.7119</td>\n",
       "      <td>0.2654</td>\n",
       "      <td>0.4601</td>\n",
       "      <td>0.11890</td>\n",
       "      <td>1</td>\n",
       "    </tr>\n",
       "    <tr>\n",
       "      <th>1</th>\n",
       "      <td>20.57</td>\n",
       "      <td>17.77</td>\n",
       "      <td>132.90</td>\n",
       "      <td>1326.0</td>\n",
       "      <td>0.08474</td>\n",
       "      <td>0.07864</td>\n",
       "      <td>0.0869</td>\n",
       "      <td>0.07017</td>\n",
       "      <td>0.1812</td>\n",
       "      <td>0.05667</td>\n",
       "      <td>...</td>\n",
       "      <td>23.41</td>\n",
       "      <td>158.80</td>\n",
       "      <td>1956.0</td>\n",
       "      <td>0.1238</td>\n",
       "      <td>0.1866</td>\n",
       "      <td>0.2416</td>\n",
       "      <td>0.1860</td>\n",
       "      <td>0.2750</td>\n",
       "      <td>0.08902</td>\n",
       "      <td>1</td>\n",
       "    </tr>\n",
       "    <tr>\n",
       "      <th>2</th>\n",
       "      <td>19.69</td>\n",
       "      <td>21.25</td>\n",
       "      <td>130.00</td>\n",
       "      <td>1203.0</td>\n",
       "      <td>0.10960</td>\n",
       "      <td>0.15990</td>\n",
       "      <td>0.1974</td>\n",
       "      <td>0.12790</td>\n",
       "      <td>0.2069</td>\n",
       "      <td>0.05999</td>\n",
       "      <td>...</td>\n",
       "      <td>25.53</td>\n",
       "      <td>152.50</td>\n",
       "      <td>1709.0</td>\n",
       "      <td>0.1444</td>\n",
       "      <td>0.4245</td>\n",
       "      <td>0.4504</td>\n",
       "      <td>0.2430</td>\n",
       "      <td>0.3613</td>\n",
       "      <td>0.08758</td>\n",
       "      <td>1</td>\n",
       "    </tr>\n",
       "    <tr>\n",
       "      <th>3</th>\n",
       "      <td>11.42</td>\n",
       "      <td>20.38</td>\n",
       "      <td>77.58</td>\n",
       "      <td>386.1</td>\n",
       "      <td>0.14250</td>\n",
       "      <td>0.28390</td>\n",
       "      <td>0.2414</td>\n",
       "      <td>0.10520</td>\n",
       "      <td>0.2597</td>\n",
       "      <td>0.09744</td>\n",
       "      <td>...</td>\n",
       "      <td>26.50</td>\n",
       "      <td>98.87</td>\n",
       "      <td>567.7</td>\n",
       "      <td>0.2098</td>\n",
       "      <td>0.8663</td>\n",
       "      <td>0.6869</td>\n",
       "      <td>0.2575</td>\n",
       "      <td>0.6638</td>\n",
       "      <td>0.17300</td>\n",
       "      <td>1</td>\n",
       "    </tr>\n",
       "    <tr>\n",
       "      <th>4</th>\n",
       "      <td>20.29</td>\n",
       "      <td>14.34</td>\n",
       "      <td>135.10</td>\n",
       "      <td>1297.0</td>\n",
       "      <td>0.10030</td>\n",
       "      <td>0.13280</td>\n",
       "      <td>0.1980</td>\n",
       "      <td>0.10430</td>\n",
       "      <td>0.1809</td>\n",
       "      <td>0.05883</td>\n",
       "      <td>...</td>\n",
       "      <td>16.67</td>\n",
       "      <td>152.20</td>\n",
       "      <td>1575.0</td>\n",
       "      <td>0.1374</td>\n",
       "      <td>0.2050</td>\n",
       "      <td>0.4000</td>\n",
       "      <td>0.1625</td>\n",
       "      <td>0.2364</td>\n",
       "      <td>0.07678</td>\n",
       "      <td>1</td>\n",
       "    </tr>\n",
       "  </tbody>\n",
       "</table>\n",
       "<p>5 rows × 31 columns</p>\n",
       "</div>"
      ],
      "text/plain": [
       "   mean radius  mean texture  mean perimeter  mean area  mean smoothness  \\\n",
       "0        17.99         10.38          122.80     1001.0          0.11840   \n",
       "1        20.57         17.77          132.90     1326.0          0.08474   \n",
       "2        19.69         21.25          130.00     1203.0          0.10960   \n",
       "3        11.42         20.38           77.58      386.1          0.14250   \n",
       "4        20.29         14.34          135.10     1297.0          0.10030   \n",
       "\n",
       "   mean compactness  mean concavity  mean concave points  mean symmetry  \\\n",
       "0           0.27760          0.3001              0.14710         0.2419   \n",
       "1           0.07864          0.0869              0.07017         0.1812   \n",
       "2           0.15990          0.1974              0.12790         0.2069   \n",
       "3           0.28390          0.2414              0.10520         0.2597   \n",
       "4           0.13280          0.1980              0.10430         0.1809   \n",
       "\n",
       "   mean fractal dimension  ...  worst texture  worst perimeter  worst area  \\\n",
       "0                 0.07871  ...          17.33           184.60      2019.0   \n",
       "1                 0.05667  ...          23.41           158.80      1956.0   \n",
       "2                 0.05999  ...          25.53           152.50      1709.0   \n",
       "3                 0.09744  ...          26.50            98.87       567.7   \n",
       "4                 0.05883  ...          16.67           152.20      1575.0   \n",
       "\n",
       "   worst smoothness  worst compactness  worst concavity  worst concave points  \\\n",
       "0            0.1622             0.6656           0.7119                0.2654   \n",
       "1            0.1238             0.1866           0.2416                0.1860   \n",
       "2            0.1444             0.4245           0.4504                0.2430   \n",
       "3            0.2098             0.8663           0.6869                0.2575   \n",
       "4            0.1374             0.2050           0.4000                0.1625   \n",
       "\n",
       "   worst symmetry  worst fractal dimension  malign  \n",
       "0          0.4601                  0.11890       1  \n",
       "1          0.2750                  0.08902       1  \n",
       "2          0.3613                  0.08758       1  \n",
       "3          0.6638                  0.17300       1  \n",
       "4          0.2364                  0.07678       1  \n",
       "\n",
       "[5 rows x 31 columns]"
      ]
     },
     "execution_count": 1,
     "metadata": {},
     "output_type": "execute_result"
    }
   ],
   "source": [
    "from sklearn.datasets import load_breast_cancer\n",
    "import pandas as pd\n",
    "\n",
    "data = load_breast_cancer()\n",
    "df = pd.DataFrame(data[\"data\"], columns=data[\"feature_names\"])\n",
    "df[\"malign\"] = 1 - data[\"target\"]\n",
    "print(\"Malign:\", df.malign.sum())\n",
    "print(\"Benign:\", len(df) - df.malign.sum())\n",
    "df.head()"
   ]
  },
  {
   "cell_type": "markdown",
   "id": "35130165-6736-4c48-939b-0ccdc85d9404",
   "metadata": {},
   "source": [
    "These features look pretty detailed."
   ]
  },
  {
   "cell_type": "markdown",
   "id": "5e6ae70b-41e5-4ef0-af78-2997d4500672",
   "metadata": {},
   "source": [
    "This data could come from a CSV too:"
   ]
  },
  {
   "cell_type": "code",
   "execution_count": 2,
   "id": "dc717744-09cc-4031-8189-27f87332bea1",
   "metadata": {},
   "outputs": [],
   "source": [
    "# df = pd.read_csv(\"cancer_data.csv\")"
   ]
  },
  {
   "cell_type": "markdown",
   "id": "333ea3d1-6354-4f38-91f3-4c9f0524b30e",
   "metadata": {},
   "source": [
    "Okay, let's collect the training data:"
   ]
  },
  {
   "cell_type": "code",
   "execution_count": 3,
   "id": "2278abb2-301d-4cd6-b7f5-a33e28e1a1dd",
   "metadata": {},
   "outputs": [],
   "source": [
    "target = \"malign\"\n",
    "\n",
    "cols = [c for c in df.columns if c != target]\n",
    "X = df[cols].to_numpy().astype(\"float32\")\n",
    "y = df[target].to_numpy().astype(\"int64\")\n",
    "\n",
    "n, d = X.shape"
   ]
  },
  {
   "cell_type": "code",
   "execution_count": 4,
   "id": "3d5e4165-ef9b-4cde-9978-51c0f7e092cf",
   "metadata": {},
   "outputs": [
    {
     "data": {
      "text/plain": [
       "'The training set has 569 examples and 30 features'"
      ]
     },
     "execution_count": 4,
     "metadata": {},
     "output_type": "execute_result"
    }
   ],
   "source": [
    "f\"The training set has {n} examples and {d} features\""
   ]
  },
  {
   "cell_type": "markdown",
   "id": "5ca28996-5a25-4948-86e0-7df2174c7131",
   "metadata": {},
   "source": [
    "## Model"
   ]
  },
  {
   "cell_type": "code",
   "execution_count": 5,
   "id": "254af372-dc71-4319-8a70-5c55b8434f8e",
   "metadata": {},
   "outputs": [],
   "source": [
    "import torch.nn as nn\n",
    "import torch\n",
    "\n",
    "class FullyConnected(nn.Module):\n",
    "    def __init__(self, features=30, depth=2):\n",
    "        super().__init__()\n",
    "        self.first_layer = nn.Linear(features, 2 * features)\n",
    "        self.layers = [nn.Linear(2 * features, 2 * features) for _ in range(depth - 2)]\n",
    "        self.last_layer = nn.Linear(2 * features, 1)\n",
    "    \n",
    "    def forward(self, x):\n",
    "        x = torch.relu(self.first_layer(x))\n",
    "        for layer in self.layers:\n",
    "            x = torch.relu(layer(x))\n",
    "        return torch.tanh(self.last_layer(x))"
   ]
  },
  {
   "cell_type": "markdown",
   "id": "099eaad9-7151-4ec7-b9da-8408299f99e0",
   "metadata": {},
   "source": [
    "This model is a feature transformer – it takes a vector and transforms it a couple times. By default, it does this behavior:\n",
    "\n",
    "1. Input 30 numbers\n",
    "2. Transform to 60 numbers\n",
    "3. Transform to 1 number\n"
   ]
  },
  {
   "cell_type": "code",
   "execution_count": 6,
   "id": "70b2d6f3-3944-42bb-8c02-b042f01e447e",
   "metadata": {},
   "outputs": [
    {
     "data": {
      "text/plain": [
       "'This instance of FullyConnected has 1921 parameters'"
      ]
     },
     "execution_count": 6,
     "metadata": {},
     "output_type": "execute_result"
    }
   ],
   "source": [
    "module = FullyConnected()\n",
    "n_params = sum([x.nelement() for x in module.parameters()])\n",
    "f\"This instance of FullyConnected has {n_params} parameters\""
   ]
  },
  {
   "cell_type": "markdown",
   "id": "1ae26d4d-2e17-465a-be75-2e4c42dd4ee9",
   "metadata": {},
   "source": [
    "It has more parameters/weights than examples. In the case of lienar models, this would mean a *perfect* training fit but horrible test performance."
   ]
  },
  {
   "cell_type": "markdown",
   "id": "a7fc90f4-5e3f-4d5e-8911-82f85f19c440",
   "metadata": {},
   "source": [
    "## Training"
   ]
  },
  {
   "cell_type": "markdown",
   "id": "1712d324-f690-4c12-b79b-fb21144f724f",
   "metadata": {},
   "source": [
    "**This is clearly non-convex:** there are products of weights and two non-linearities."
   ]
  },
  {
   "cell_type": "code",
   "execution_count": 7,
   "id": "b8804cd9-67ca-4972-9426-5c7acbd38fa7",
   "metadata": {},
   "outputs": [],
   "source": [
    "from utils import Optimizer\n",
    "import torch.optim as optim\n",
    "import numpy as np\n",
    "\n",
    "est = Optimizer(\n",
    "    module=FullyConnected,\n",
    "    module__depth=3,\n",
    "    criterion=nn.SoftMarginLoss,\n",
    "    optimizer=optim.Adadelta,\n",
    "    optimizer__weight_decay=1e-6,\n",
    "    max_epochs=1000,\n",
    ")"
   ]
  },
  {
   "cell_type": "markdown",
   "id": "fd104265-f474-4f84-a76b-05ead80bcf17",
   "metadata": {},
   "source": [
    "The docs for [SoftMarginLoss][1] say the targets should be +1 or -1. It's basically hinge loss (as shown in demo 0).\n",
    "\n",
    "[1]:https://pytorch.org/docs/stable/generated/torch.nn.SoftMarginLoss.html#torch.nn.SoftMarginLoss"
   ]
  },
  {
   "cell_type": "code",
   "execution_count": 8,
   "id": "342c7508-f781-41a0-8378-39f3829c6c44",
   "metadata": {},
   "outputs": [
    {
     "data": {
      "text/plain": [
       "array([-1,  1])"
      ]
     },
     "execution_count": 8,
     "metadata": {},
     "output_type": "execute_result"
    }
   ],
   "source": [
    "y2 = 2 * y - 1\n",
    "np.unique(y2)"
   ]
  },
  {
   "cell_type": "markdown",
   "id": "d35aee96-a1ac-45f8-8aa3-efd1219bb172",
   "metadata": {},
   "source": [
    "Before we fit the estimator, we need to make sure each feature has 0 mean and unit variance:"
   ]
  },
  {
   "cell_type": "code",
   "execution_count": 9,
   "id": "de13834c-39a0-49e7-b729-7aec14d3c0e1",
   "metadata": {},
   "outputs": [],
   "source": [
    "from sklearn.preprocessing import StandardScaler\n",
    "from sklearn.model_selection import train_test_split\n",
    "\n",
    "X_train, X_test, y_train, y_test = train_test_split(X, y2, random_state=42)\n",
    "\n",
    "scaler = StandardScaler()\n",
    "X_train = scaler.fit_transform(X_train)\n",
    "X_test = scaler.transform(X_test)"
   ]
  },
  {
   "cell_type": "markdown",
   "id": "919d5119-b41e-49b0-b397-11239c2d18a8",
   "metadata": {},
   "source": [
    "This is extremely common (e.g., [it's in PyTorch's MNIST example][2] or [this SO question][3]).\n",
    "\n",
    "[3]:https://stackoverflow.com/questions/63746182/correct-way-of-normalizing-and-scaling-the-mnist-dataset\n",
    "[2]:https://github.com/pytorch/examples/blob/2639cf050493df9d3cbf065d45e6025733add0f4/mnist/main.py#L114"
   ]
  },
  {
   "cell_type": "code",
   "execution_count": 10,
   "id": "fe995b9f-0518-45cb-ba06-ed0e93e86267",
   "metadata": {},
   "outputs": [
    {
     "data": {
      "text/plain": [
       "<class 'skorch.net.NeuralNet'>[initialized](\n",
       "  module_=FullyConnected(\n",
       "    (first_layer): Linear(in_features=30, out_features=60, bias=True)\n",
       "    (last_layer): Linear(in_features=60, out_features=1, bias=True)\n",
       "  ),\n",
       ")"
      ]
     },
     "execution_count": 10,
     "metadata": {},
     "output_type": "execute_result"
    }
   ],
   "source": [
    "est.fit(X_train, y_train.reshape(-1, 1))"
   ]
  },
  {
   "cell_type": "code",
   "execution_count": 11,
   "id": "e794224f-9f90-42e0-9b06-15d4277d4312",
   "metadata": {},
   "outputs": [
    {
     "data": {
      "text/plain": [
       "'Our classifier is 96.5% accurate'"
      ]
     },
     "execution_count": 11,
     "metadata": {},
     "output_type": "execute_result"
    }
   ],
   "source": [
    "model_out = est.predict(X_test)\n",
    "y_pred = np.sign(model_out).flatten()\n",
    "acc = (y_pred == y_test).mean()\n",
    "f\"Our classifier is {100 * acc:0.1f}% accurate\""
   ]
  },
  {
   "cell_type": "markdown",
   "id": "ddba6b54-96aa-4ca7-8e33-9580a96c347c",
   "metadata": {},
   "source": [
    "1. First try: 93.0% accuracy.\n",
    "    * That's a probably a sign that these features are *very* informative.\n",
    "2. Second try (training longer; max_epochs=200 → max_epochs=800): 96.5%\n",
    "3. Third try (depth=2 → depth=3): 97.2%"
   ]
  },
  {
   "cell_type": "code",
   "execution_count": 12,
   "id": "0755997d-f6ee-4658-8504-80c445a8e2a7",
   "metadata": {},
   "outputs": [
    {
     "data": {
      "text/plain": [
       "'Baseline accuracy is 97.9%'"
      ]
     },
     "execution_count": 12,
     "metadata": {},
     "output_type": "execute_result"
    }
   ],
   "source": [
    "from sklearn.linear_model import LogisticRegression\n",
    "\n",
    "baseline = LogisticRegression()\n",
    "baseline.fit(X_train, y_train)\n",
    "acc = baseline.score(X_test, y_test)\n",
    "f\"Baseline accuracy is {100 * acc:0.1f}%\""
   ]
  },
  {
   "cell_type": "markdown",
   "id": "e420eae0-2a3f-4b35-a11d-6d1a2e0b6582",
   "metadata": {},
   "source": [
    "But the baseline model is *linear.* That means finding feature importance is easy:"
   ]
  },
  {
   "cell_type": "code",
   "execution_count": 13,
   "id": "9964c4e3-5000-40bc-9dd3-f904c49109ee",
   "metadata": {},
   "outputs": [
    {
     "data": {
      "text/plain": [
       "Text(0.5, 1.0, 'Feature importance')"
      ]
     },
     "execution_count": 13,
     "metadata": {},
     "output_type": "execute_result"
    },
    {
     "data": {
      "image/png": "[encoded data removed]",
      "text/plain": [
       "<Figure size 216x576 with 1 Axes>"
      ]
     },
     "metadata": {
      "image/png": {
       "height": 481,
       "width": 307
      },
      "needs_background": "light"
     },
     "output_type": "display_data"
    }
   ],
   "source": [
    "df = pd.Series({k: np.abs(v) for k, v in zip(data[\"feature_names\"], baseline.coef_.flatten())}).sort_values()\n",
    "\n",
    "import matplotlib.pyplot as plt\n",
    "fig, ax = plt.subplots(figsize=(3, 8))\n",
    "df.plot.barh(ax=ax)\n",
    "ax.set_title(\"Feature importance\")"
   ]
  },
  {
   "cell_type": "markdown",
   "id": "98352011-c72c-4aab-9648-45f70799624d",
   "metadata": {},
   "source": [
    "# Other uses"
   ]
  },
  {
   "cell_type": "markdown",
   "id": "d1d96c77-3823-4a2f-b757-4d1345ffe1e4",
   "metadata": {},
   "source": [
    "I stepped through this example to provide an illustration of the fact that **if you have high quality features, you probably don't need a neural network.**\n",
    "\n",
    "* Neural networks essentially train **a linear classifier on the *last* layer.**\n",
    "* → so neural nets can be thought of \"progressively better features.\""
   ]
  },
  {
   "cell_type": "markdown",
   "id": "b175243b-d4ee-4b95-a4f0-6c2459466df7",
   "metadata": {},
   "source": [
    "Neural networks—especially convolutional neural networks—are really good when the features are not high quality.\n",
    "\n",
    "**Corollary: good features → simple models.**"
   ]
  },
  {
   "cell_type": "markdown",
   "id": "f73e89e0-b46d-4d92-b970-226bd1d92b9c",
   "metadata": {},
   "source": [
    "## Example\n",
    "e.g., pixels in an image.\n",
    " \n",
    "Let's say I want to detect if a face is \"happy,\" \"sad\" or \"neutral\" in an image of the face.\n",
    "\n",
    "Why would colors aka pixel values be reasonable features? There's a lot of them, and there's no immediate connection without a human.\n",
    "\n",
    "Instead, why not use the *distances* between different facial landmarks? There's even tools out there to collect 68 facial landmarks! (e.g., [ageitgey/face_recognition][1])\n",
    "\n",
    "[1]:https://github.com/ageitgey/face_recognition"
   ]
  },
  {
   "cell_type": "markdown",
   "id": "637313ef-7c11-4137-acd0-4cd0bbf4067c",
   "metadata": {},
   "source": [
    "## One view of neural networks"
   ]
  },
  {
   "cell_type": "markdown",
   "id": "f01f5c4d-12b4-4c4f-ada5-f61e18f3d284",
   "metadata": {},
   "source": [
    "I think of neural networks as a feature map. I see the layers of a neural net as mapping between these items:\n",
    "\n",
    "1. First, learn edges.\n",
    "1. Then learn curves and corners.\n",
    "1. Then learn about textures and color gradients.\n",
    "1. Then learn about 3D vision.\n",
    "1. ...\n",
    "1. Finally: a good set of features for the classification task.\n",
    "1. Train a linear classifier.\n",
    "\n",
    "Distill has a good depiction of this feature map: https://distill.pub/2019/activation-atlas/\n",
    "\n",
    "* The first layer is \"Mixed 3A\"; the last layer is \"Mixed 5B.\"\n",
    "* The first layers learn basics, the later layers almost look like representative images.\n",
    "    * i.e., \"mixed 3a\" is most activated by colors/shapes.\n",
    "    * e.g., \"mixed 5b\" is most activated by has paintings of the final objects animals."
   ]
  },
  {
   "cell_type": "code",
   "execution_count": null,
   "id": "4cfd61d8-8db2-4c17-8a5f-21e80a082724",
   "metadata": {},
   "outputs": [],
   "source": []
  }
 ],
 "metadata": {
  "kernelspec": {
   "display_name": "Python [conda env:prep]",
   "language": "python",
   "name": "conda-env-prep-py"
  },
  "language_info": {
   "codemirror_mode": {
    "name": "ipython",
    "version": 3
   },
   "file_extension": ".py",
   "mimetype": "text/x-python",
   "name": "python",
   "nbconvert_exporter": "python",
   "pygments_lexer": "ipython3",
   "version": "3.9.6"
  }
 },
 "nbformat": 4,
 "nbformat_minor": 5
}
